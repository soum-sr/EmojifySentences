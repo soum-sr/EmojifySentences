{
 "cells": [
  {
   "cell_type": "code",
   "execution_count": 11,
   "metadata": {
    "ExecuteTime": {
     "end_time": "2020-05-22T09:33:28.409505Z",
     "start_time": "2020-05-22T09:33:28.404500Z"
    }
   },
   "outputs": [],
   "source": [
    "import numpy as np\n",
    "import matplotlib.pyplot as plt\n",
    "import pandas as pd\n",
    "import emoji\n",
    "from tensorflow.keras.layers import Dense, Dropout, Input, LSTM, Activation, Embedding\n",
    "from tensorflow.keras.models import Model\n",
    "from tensorflow.keras.preprocessing import sequence\n",
    "from tensorflow.keras.initializers import glorot_uniform"
   ]
  },
  {
   "cell_type": "code",
   "execution_count": 2,
   "metadata": {
    "ExecuteTime": {
     "end_time": "2020-05-22T09:33:16.107439Z",
     "start_time": "2020-05-22T09:33:16.090436Z"
    }
   },
   "outputs": [],
   "source": [
    "def read_glove_vecs(glove_file):\n",
    "    with open(glove_file, 'r', encoding='utf8') as f:\n",
    "        words = set()\n",
    "        word_to_vec_map = {}\n",
    "        for line in f:\n",
    "            line = line.strip().split()\n",
    "            curr_word = line[0]\n",
    "            words.add(curr_word)\n",
    "            word_to_vec_map[curr_word] = np.array(line[1:], dtype=np.float64)\n",
    "        \n",
    "        i = 1\n",
    "        words_to_index = {}\n",
    "        index_to_words = {}\n",
    "        for w in sorted(words):\n",
    "            words_to_index[w] = i\n",
    "            index_to_words[i] = w\n",
    "            i = i + 1\n",
    "    return words_to_index, index_to_words, word_to_vec_map"
   ]
  },
  {
   "cell_type": "code",
   "execution_count": 3,
   "metadata": {
    "ExecuteTime": {
     "end_time": "2020-05-22T09:33:24.819761Z",
     "start_time": "2020-05-22T09:33:16.110433Z"
    }
   },
   "outputs": [],
   "source": [
    "word_to_index, index_to_word, word_to_vec_map = read_glove_vecs('glove.6B.50d.txt')"
   ]
  },
  {
   "cell_type": "code",
   "execution_count": 4,
   "metadata": {
    "ExecuteTime": {
     "end_time": "2020-05-22T09:33:24.841735Z",
     "start_time": "2020-05-22T09:33:24.821730Z"
    }
   },
   "outputs": [],
   "source": [
    "df = pd.read_csv('train_emoji.csv', header=None, usecols=[0,1])\n",
    "dataset= np.array(df)\n",
    "phrase, emoji = list(), list()\n",
    "for p, e in dataset:\n",
    "    phrase.append(p)\n",
    "    emoji.append(e)\n"
   ]
  },
  {
   "cell_type": "code",
   "execution_count": 5,
   "metadata": {
    "ExecuteTime": {
     "end_time": "2020-05-22T09:33:24.949915Z",
     "start_time": "2020-05-22T09:33:24.845741Z"
    }
   },
   "outputs": [],
   "source": [
    "def read_csv(filename):\n",
    "    phrase , emoji = list(), list()\n",
    "    df = pd.read_csv(filename, header=None, usecols=[0,1])\n",
    "    dataset= np.array(df)\n",
    "    phrase, emoji = list(), list()\n",
    "    for p, e in dataset:\n",
    "        if '\\t' in p:\n",
    "            p = p[:-1]\n",
    "        phrase.append(p)\n",
    "        emoji.append(e)\n",
    "    X = np.array(phrase)\n",
    "    y = np.array(emoji, dtype=int)\n",
    "    return X,y"
   ]
  },
  {
   "cell_type": "code",
   "execution_count": 6,
   "metadata": {
    "ExecuteTime": {
     "end_time": "2020-05-22T09:33:25.070901Z",
     "start_time": "2020-05-22T09:33:24.952892Z"
    }
   },
   "outputs": [],
   "source": [
    "emoji_dictionary = {\"0\": \"\\u2764\\uFE0F\",    # :heart: prints a black instead of red heart depending on the font\n",
    "                    \"1\": \":baseball:\",\n",
    "                    \"2\": \":smile:\",\n",
    "                    \"3\": \":disappointed:\",\n",
    "                    \"4\": \":fork_and_knife:\"}"
   ]
  },
  {
   "cell_type": "code",
   "execution_count": 7,
   "metadata": {
    "ExecuteTime": {
     "end_time": "2020-05-22T09:33:25.194949Z",
     "start_time": "2020-05-22T09:33:25.072897Z"
    }
   },
   "outputs": [],
   "source": [
    "def label_to_emoji(val):\n",
    "    return emoji.emojize(emoji_dictionary[str(val)], use_aliases=True)"
   ]
  },
  {
   "cell_type": "code",
   "execution_count": 8,
   "metadata": {
    "ExecuteTime": {
     "end_time": "2020-05-22T09:33:25.332757Z",
     "start_time": "2020-05-22T09:33:25.196969Z"
    }
   },
   "outputs": [],
   "source": [
    "X_train, Y_train = read_csv('train_emoji.csv')\n",
    "X_test, Y_test = read_csv('tesss.csv')"
   ]
  },
  {
   "cell_type": "code",
   "execution_count": 9,
   "metadata": {
    "ExecuteTime": {
     "end_time": "2020-05-22T09:33:25.464705Z",
     "start_time": "2020-05-22T09:33:25.335711Z"
    }
   },
   "outputs": [
    {
     "name": "stdout",
     "output_type": "stream",
     "text": [
      "10\n"
     ]
    }
   ],
   "source": [
    "maxLen = len(max(X_train, key=len).split())\n",
    "print(maxLen)"
   ]
  },
  {
   "cell_type": "code",
   "execution_count": 12,
   "metadata": {
    "ExecuteTime": {
     "end_time": "2020-05-22T09:33:31.035314Z",
     "start_time": "2020-05-22T09:33:31.029309Z"
    }
   },
   "outputs": [
    {
     "name": "stdout",
     "output_type": "stream",
     "text": [
      "never talk to me again 😞\n",
      "I am proud of your achievements 😄\n",
      "It is the worst day in my life 😞\n",
      "Miss you so much ❤️\n",
      "food is life 🍴\n",
      "I love you mum ❤️\n",
      "Stop saying bullshit 😞\n",
      "congratulations on your acceptance 😄\n",
      "The assignment is too long  😞\n",
      "I want to go play ⚾\n"
     ]
    }
   ],
   "source": [
    "for idx in range(10):\n",
    "    print(X_train[idx] , label_to_emoji(Y_train[idx]))"
   ]
  },
  {
   "cell_type": "code",
   "execution_count": 13,
   "metadata": {
    "ExecuteTime": {
     "end_time": "2020-05-22T09:33:32.180319Z",
     "start_time": "2020-05-22T09:33:32.172323Z"
    }
   },
   "outputs": [],
   "source": [
    "def sentences_to_indices(X, word_to_index, max_len):\n",
    "    m = X.shape[0]\n",
    "    X_indices = np.zeros((m, max_len))\n",
    "    \n",
    "    for i in range(m):\n",
    "        sentence_words = X[i].lower().split()\n",
    "        j = 0\n",
    "        for w in sentence_words:\n",
    "            X_indices[i,j] = word_to_index[w]\n",
    "            j+=1\n",
    "    return X_indices"
   ]
  },
  {
   "cell_type": "code",
   "execution_count": 14,
   "metadata": {
    "ExecuteTime": {
     "end_time": "2020-05-22T09:33:33.546252Z",
     "start_time": "2020-05-22T09:33:33.541255Z"
    }
   },
   "outputs": [],
   "source": [
    "def convert_to_one_hot(Y,C):\n",
    "    Y = np.eye(C)[Y.reshape(-1)]\n",
    "    return Y"
   ]
  },
  {
   "cell_type": "code",
   "execution_count": 15,
   "metadata": {
    "ExecuteTime": {
     "end_time": "2020-05-22T09:33:34.083396Z",
     "start_time": "2020-05-22T09:33:34.077403Z"
    }
   },
   "outputs": [],
   "source": [
    "def pretrained_embedding_layer(word_to_vec_map, word_to_index):    \n",
    "    vocab_len = len(word_to_index) + 1                  # adding 1 to fit Keras embedding (requirement)\n",
    "    emb_dim = word_to_vec_map[\"cucumber\"].shape[0]      # define dimensionality of your GloVe word vectors (= 50)\n",
    "    emb_matrix = np.zeros((vocab_len, emb_dim))\n",
    "    \n",
    "    for word, idx in word_to_index.items():\n",
    "        emb_matrix[idx, :] = word_to_vec_map[word]\n",
    "\n",
    "    embedding_layer = Embedding(vocab_len, emb_dim, trainable=False)\n",
    "\n",
    "    embedding_layer.build((None,)) \n",
    "    embedding_layer.set_weights([emb_matrix])\n",
    "    \n",
    "    return embedding_layer"
   ]
  },
  {
   "cell_type": "code",
   "execution_count": 16,
   "metadata": {
    "ExecuteTime": {
     "end_time": "2020-05-22T09:33:34.402136Z",
     "start_time": "2020-05-22T09:33:34.396134Z"
    }
   },
   "outputs": [],
   "source": [
    "def define_model(input_shape, word_to_vec_map, word_to_index):\n",
    "    sentence_indices = Input(shape=input_shape, dtype='int32')\n",
    "    embedding_layer = pretrained_embedding_layer(word_to_vec_map, word_to_index)\n",
    "    embeddings = embedding_layer(sentence_indices)\n",
    "    X = LSTM(128, return_sequences=True)(embeddings)\n",
    "    X = Dropout(rate=0.5)(X)\n",
    "    X = LSTM(128, return_sequences=False)(X)\n",
    "    X = Dropout(rate=0.5)(X)\n",
    "    X = Dense(units=5, activation='softmax')(X)\n",
    "    X = Activation('softmax')(X)\n",
    "\n",
    "    model = Model(sentence_indices,X)\n",
    "    \n",
    "    return model"
   ]
  },
  {
   "cell_type": "code",
   "execution_count": 17,
   "metadata": {
    "ExecuteTime": {
     "end_time": "2020-05-22T09:33:36.646499Z",
     "start_time": "2020-05-22T09:33:34.997642Z"
    }
   },
   "outputs": [
    {
     "name": "stdout",
     "output_type": "stream",
     "text": [
      "Model: \"model\"\n",
      "_________________________________________________________________\n",
      "Layer (type)                 Output Shape              Param #   \n",
      "=================================================================\n",
      "input_1 (InputLayer)         [(None, 10)]              0         \n",
      "_________________________________________________________________\n",
      "embedding (Embedding)        (None, 10, 50)            20000050  \n",
      "_________________________________________________________________\n",
      "lstm (LSTM)                  (None, 10, 128)           91648     \n",
      "_________________________________________________________________\n",
      "dropout (Dropout)            (None, 10, 128)           0         \n",
      "_________________________________________________________________\n",
      "lstm_1 (LSTM)                (None, 128)               131584    \n",
      "_________________________________________________________________\n",
      "dropout_1 (Dropout)          (None, 128)               0         \n",
      "_________________________________________________________________\n",
      "dense (Dense)                (None, 5)                 645       \n",
      "_________________________________________________________________\n",
      "activation (Activation)      (None, 5)                 0         \n",
      "=================================================================\n",
      "Total params: 20,223,927\n",
      "Trainable params: 223,877\n",
      "Non-trainable params: 20,000,050\n",
      "_________________________________________________________________\n"
     ]
    }
   ],
   "source": [
    "model = define_model((maxLen,), word_to_vec_map, word_to_index)\n",
    "model.summary()"
   ]
  },
  {
   "cell_type": "code",
   "execution_count": 18,
   "metadata": {
    "ExecuteTime": {
     "end_time": "2020-05-22T09:33:38.413811Z",
     "start_time": "2020-05-22T09:33:38.356578Z"
    }
   },
   "outputs": [],
   "source": [
    "model.compile(loss='categorical_crossentropy', optimizer='adam', metrics=['accuracy'])"
   ]
  },
  {
   "cell_type": "code",
   "execution_count": 19,
   "metadata": {
    "ExecuteTime": {
     "end_time": "2020-05-22T09:33:38.660403Z",
     "start_time": "2020-05-22T09:33:38.654398Z"
    }
   },
   "outputs": [],
   "source": [
    "X_train_indices = sentences_to_indices(X_train, word_to_index, maxLen)\n",
    "Y_train_oh = convert_to_one_hot(Y_train, C = 5)"
   ]
  },
  {
   "cell_type": "code",
   "execution_count": 20,
   "metadata": {
    "ExecuteTime": {
     "end_time": "2020-05-22T09:34:20.067128Z",
     "start_time": "2020-05-22T09:33:45.828343Z"
    }
   },
   "outputs": [
    {
     "name": "stdout",
     "output_type": "stream",
     "text": [
      "Train on 188 samples\n",
      "Epoch 1/60\n",
      "188/188 [==============================] - 4s 21ms/sample - loss: 1.5932 - accuracy: 0.2660\n",
      "Epoch 2/60\n",
      "188/188 [==============================] - 1s 3ms/sample - loss: 1.5635 - accuracy: 0.2926\n",
      "Epoch 3/60\n",
      "188/188 [==============================] - 0s 3ms/sample - loss: 1.5503 - accuracy: 0.3511\n",
      "Epoch 4/60\n",
      "188/188 [==============================] - 1s 3ms/sample - loss: 1.5222 - accuracy: 0.3723\n",
      "Epoch 5/60\n",
      "188/188 [==============================] - 1s 4ms/sample - loss: 1.4817 - accuracy: 0.4255\n",
      "Epoch 6/60\n",
      "188/188 [==============================] - 1s 3ms/sample - loss: 1.4401 - accuracy: 0.4734\n",
      "Epoch 7/60\n",
      "188/188 [==============================] - 1s 4ms/sample - loss: 1.3877 - accuracy: 0.5160\n",
      "Epoch 8/60\n",
      "188/188 [==============================] - 1s 5ms/sample - loss: 1.3119 - accuracy: 0.6170\n",
      "Epoch 9/60\n",
      "188/188 [==============================] - 1s 4ms/sample - loss: 1.2318 - accuracy: 0.6915\n",
      "Epoch 10/60\n",
      "188/188 [==============================] - 1s 3ms/sample - loss: 1.1856 - accuracy: 0.7287\n",
      "Epoch 11/60\n",
      "188/188 [==============================] - 0s 3ms/sample - loss: 1.1677 - accuracy: 0.7447\n",
      "Epoch 12/60\n",
      "188/188 [==============================] - 1s 3ms/sample - loss: 1.1304 - accuracy: 0.7926\n",
      "Epoch 13/60\n",
      "188/188 [==============================] - 0s 3ms/sample - loss: 1.1428 - accuracy: 0.7660\n",
      "Epoch 14/60\n",
      "188/188 [==============================] - 1s 3ms/sample - loss: 1.0962 - accuracy: 0.8085\n",
      "Epoch 15/60\n",
      "188/188 [==============================] - 1s 3ms/sample - loss: 1.0878 - accuracy: 0.8085\n",
      "Epoch 16/60\n",
      "188/188 [==============================] - 1s 3ms/sample - loss: 1.0640 - accuracy: 0.8617\n",
      "Epoch 17/60\n",
      "188/188 [==============================] - 1s 3ms/sample - loss: 1.0325 - accuracy: 0.8723\n",
      "Epoch 18/60\n",
      "188/188 [==============================] - 1s 3ms/sample - loss: 1.0255 - accuracy: 0.8936\n",
      "Epoch 19/60\n",
      "188/188 [==============================] - 1s 3ms/sample - loss: 1.0430 - accuracy: 0.8670\n",
      "Epoch 20/60\n",
      "188/188 [==============================] - 0s 2ms/sample - loss: 1.0232 - accuracy: 0.8777\n",
      "Epoch 21/60\n",
      "188/188 [==============================] - 0s 2ms/sample - loss: 1.0786 - accuracy: 0.8351\n",
      "Epoch 22/60\n",
      "188/188 [==============================] - 0s 3ms/sample - loss: 1.0096 - accuracy: 0.8989\n",
      "Epoch 23/60\n",
      "188/188 [==============================] - 0s 2ms/sample - loss: 0.9995 - accuracy: 0.9043\n",
      "Epoch 24/60\n",
      "188/188 [==============================] - 0s 3ms/sample - loss: 0.9750 - accuracy: 0.9362\n",
      "Epoch 25/60\n",
      "188/188 [==============================] - 0s 2ms/sample - loss: 0.9861 - accuracy: 0.9202\n",
      "Epoch 26/60\n",
      "188/188 [==============================] - 0s 2ms/sample - loss: 0.9849 - accuracy: 0.9255\n",
      "Epoch 27/60\n",
      "188/188 [==============================] - 0s 2ms/sample - loss: 0.9631 - accuracy: 0.9415\n",
      "Epoch 28/60\n",
      "188/188 [==============================] - 0s 2ms/sample - loss: 0.9483 - accuracy: 0.9574\n",
      "Epoch 29/60\n",
      "188/188 [==============================] - 0s 2ms/sample - loss: 0.9553 - accuracy: 0.9521\n",
      "Epoch 30/60\n",
      "188/188 [==============================] - 0s 3ms/sample - loss: 0.9540 - accuracy: 0.9574\n",
      "Epoch 31/60\n",
      "188/188 [==============================] - 0s 2ms/sample - loss: 0.9451 - accuracy: 0.9628\n",
      "Epoch 32/60\n",
      "188/188 [==============================] - 1s 3ms/sample - loss: 0.9462 - accuracy: 0.9574\n",
      "Epoch 33/60\n",
      "188/188 [==============================] - 0s 2ms/sample - loss: 0.9907 - accuracy: 0.9096\n",
      "Epoch 34/60\n",
      "188/188 [==============================] - 0s 2ms/sample - loss: 0.9410 - accuracy: 0.9628\n",
      "Epoch 35/60\n",
      "188/188 [==============================] - 0s 2ms/sample - loss: 0.9374 - accuracy: 0.9734\n",
      "Epoch 36/60\n",
      "188/188 [==============================] - 0s 3ms/sample - loss: 0.9324 - accuracy: 0.9734\n",
      "Epoch 37/60\n",
      "188/188 [==============================] - 0s 2ms/sample - loss: 0.9423 - accuracy: 0.9628\n",
      "Epoch 38/60\n",
      "188/188 [==============================] - 0s 3ms/sample - loss: 0.9691 - accuracy: 0.9309\n",
      "Epoch 39/60\n",
      "188/188 [==============================] - 0s 3ms/sample - loss: 0.9645 - accuracy: 0.9362\n",
      "Epoch 40/60\n",
      "188/188 [==============================] - 1s 3ms/sample - loss: 0.9562 - accuracy: 0.9468\n",
      "Epoch 41/60\n",
      "188/188 [==============================] - 0s 2ms/sample - loss: 0.9425 - accuracy: 0.9628\n",
      "Epoch 42/60\n",
      "188/188 [==============================] - 1s 3ms/sample - loss: 0.9379 - accuracy: 0.96810s - loss: 0.9604 - accuracy: 0.95 - ETA: 0s - loss: 0.9474 - accuracy: \n",
      "Epoch 43/60\n",
      "188/188 [==============================] - 0s 2ms/sample - loss: 0.9280 - accuracy: 0.9787\n",
      "Epoch 44/60\n",
      "188/188 [==============================] - 0s 3ms/sample - loss: 0.9275 - accuracy: 0.9787\n",
      "Epoch 45/60\n",
      "188/188 [==============================] - 0s 3ms/sample - loss: 0.9266 - accuracy: 0.9787\n",
      "Epoch 46/60\n",
      "188/188 [==============================] - 0s 2ms/sample - loss: 0.9257 - accuracy: 0.9787\n",
      "Epoch 47/60\n",
      "188/188 [==============================] - 0s 3ms/sample - loss: 0.9260 - accuracy: 0.9787\n",
      "Epoch 48/60\n",
      "188/188 [==============================] - 0s 2ms/sample - loss: 0.9252 - accuracy: 0.9787\n",
      "Epoch 49/60\n",
      "188/188 [==============================] - 0s 2ms/sample - loss: 0.9257 - accuracy: 0.9787\n",
      "Epoch 50/60\n",
      "188/188 [==============================] - 0s 2ms/sample - loss: 0.9249 - accuracy: 0.9787\n",
      "Epoch 51/60\n",
      "188/188 [==============================] - 0s 3ms/sample - loss: 0.9255 - accuracy: 0.9787\n",
      "Epoch 52/60\n",
      "188/188 [==============================] - 0s 3ms/sample - loss: 0.9246 - accuracy: 0.9787\n",
      "Epoch 53/60\n",
      "188/188 [==============================] - 0s 3ms/sample - loss: 0.9228 - accuracy: 0.9840\n",
      "Epoch 54/60\n",
      "188/188 [==============================] - 0s 3ms/sample - loss: 0.9223 - accuracy: 0.9840\n",
      "Epoch 55/60\n",
      "188/188 [==============================] - 1s 3ms/sample - loss: 0.9237 - accuracy: 0.9787\n",
      "Epoch 56/60\n",
      "188/188 [==============================] - 0s 3ms/sample - loss: 0.9209 - accuracy: 0.9840\n",
      "Epoch 57/60\n",
      "188/188 [==============================] - 1s 3ms/sample - loss: 0.9239 - accuracy: 0.9787\n",
      "Epoch 58/60\n",
      "188/188 [==============================] - 0s 3ms/sample - loss: 0.9212 - accuracy: 0.9840\n",
      "Epoch 59/60\n",
      "188/188 [==============================] - 1s 3ms/sample - loss: 0.9212 - accuracy: 0.9840\n",
      "Epoch 60/60\n",
      "188/188 [==============================] - 1s 3ms/sample - loss: 0.9208 - accuracy: 0.9840\n"
     ]
    }
   ],
   "source": [
    "history = model.fit(X_train_indices, Y_train_oh, epochs = 60, batch_size = 32, shuffle=True)"
   ]
  },
  {
   "cell_type": "code",
   "execution_count": 21,
   "metadata": {
    "ExecuteTime": {
     "end_time": "2020-05-22T09:34:23.704946Z",
     "start_time": "2020-05-22T09:34:22.676943Z"
    }
   },
   "outputs": [
    {
     "name": "stdout",
     "output_type": "stream",
     "text": [
      "56/1 - 1s - loss: 0.9049 - accuracy: 1.0000\n",
      "\n",
      "Test accuracy =  1.0\n"
     ]
    }
   ],
   "source": [
    "X_test_indices = sentences_to_indices(X_test, word_to_index, max_len = maxLen)\n",
    "Y_test_oh = convert_to_one_hot(Y_test, C = 5)\n",
    "loss, acc = model.evaluate(X_test_indices, Y_test_oh,verbose=2)\n",
    "print()\n",
    "print(\"Test accuracy = \", acc)"
   ]
  },
  {
   "cell_type": "code",
   "execution_count": 67,
   "metadata": {
    "ExecuteTime": {
     "end_time": "2020-05-22T09:51:42.276777Z",
     "start_time": "2020-05-22T09:51:42.109783Z"
    }
   },
   "outputs": [
    {
     "name": "stdout",
     "output_type": "stream",
     "text": [
      "Expected emoji:🍴 prediction: I want to eat🍴\n",
      "Expected emoji:😞 prediction: he did not answer😞\n",
      "Expected emoji:😄 prediction: he got a very nice raise😄\n",
      "Expected emoji:😄 prediction: she got me a nice present😄\n",
      "Expected emoji:😄 prediction: ha ha ha it was so funny😄\n",
      "Expected emoji:😄 prediction: he is a good friend😄\n",
      "Expected emoji:😞 prediction: I am upset😞\n",
      "Expected emoji:😄 prediction: We had such a lovely dinner tonight😄\n",
      "Expected emoji:🍴 prediction: where is the food🍴\n",
      "Expected emoji:😄 prediction: Stop making this joke ha ha ha😄\n"
     ]
    }
   ],
   "source": [
    "# This code allows you to see the mislabelled examples\n",
    "C = 5\n",
    "y_test_oh = np.eye(C)[Y_test.reshape(-1)]\n",
    "X_test_indices = sentences_to_indices(X_test, word_to_index, maxLen)\n",
    "pred = model.predict(X_test_indices)\n",
    "for i in range(10):\n",
    "    x = X_test_indices\n",
    "    num = np.argmax(pred[i])\n",
    "    print('Expected emoji:'+ label_to_emoji(Y_test[i]) + ' prediction: '+ X_test[i] + label_to_emoji(num).strip())"
   ]
  },
  {
   "cell_type": "code",
   "execution_count": 68,
   "metadata": {
    "ExecuteTime": {
     "end_time": "2020-05-22T09:51:54.226770Z",
     "start_time": "2020-05-22T09:51:54.126773Z"
    }
   },
   "outputs": [
    {
     "name": "stdout",
     "output_type": "stream",
     "text": [
      "(1,)\n",
      "I am good man 😄\n"
     ]
    }
   ],
   "source": [
    "# Change the sentence below to see your prediction. Make sure all the words are in the Glove embeddings.  \n",
    "x_test = np.array(['I am good man'])\n",
    "print(x_test.shape)\n",
    "X_test_indices = sentences_to_indices(x_test, word_to_index, maxLen)\n",
    "print(x_test[0] +' '+  label_to_emoji(np.argmax(model.predict(X_test_indices))))"
   ]
  },
  {
   "cell_type": "code",
   "execution_count": 92,
   "metadata": {
    "ExecuteTime": {
     "end_time": "2020-05-22T09:55:16.379794Z",
     "start_time": "2020-05-22T09:55:16.373781Z"
    }
   },
   "outputs": [],
   "source": [
    "def emojify(sentences):\n",
    "    sentences = sentences.split('.')\n",
    "    out = []\n",
    "    for s in sentences:\n",
    "        s_arr = np.array([s])\n",
    "        s_indices = sentences_to_indices(s_arr, word_to_index, maxLen)\n",
    "        out.append( s+ ' ' + label_to_emoji(np.argmax(model.predict(s_indices))))\n",
    "    out = '.'.join(out) + '.'\n",
    "    return out\n",
    "    \n",
    "    "
   ]
  },
  {
   "cell_type": "code",
   "execution_count": 93,
   "metadata": {
    "ExecuteTime": {
     "end_time": "2020-05-22T09:55:16.994786Z",
     "start_time": "2020-05-22T09:55:16.548788Z"
    }
   },
   "outputs": [
    {
     "data": {
      "text/plain": [
       "'this is so good man 😄. I love You ❤️. I do not want to joke 😞. I wanna play right now ⚾. I am hungry 🍴.'"
      ]
     },
     "execution_count": 93,
     "metadata": {},
     "output_type": "execute_result"
    }
   ],
   "source": [
    "sentences = 'this is so good man. I love You. I do not want to joke. I wanna play right now. I am hungry'\n",
    "emojify(sentences)"
   ]
  }
 ],
 "metadata": {
  "kernelspec": {
   "display_name": "Python 3",
   "language": "python",
   "name": "python3"
  },
  "language_info": {
   "codemirror_mode": {
    "name": "ipython",
    "version": 3
   },
   "file_extension": ".py",
   "mimetype": "text/x-python",
   "name": "python",
   "nbconvert_exporter": "python",
   "pygments_lexer": "ipython3",
   "version": "3.6.5"
  }
 },
 "nbformat": 4,
 "nbformat_minor": 2
}
